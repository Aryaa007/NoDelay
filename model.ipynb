{
 "cells": [
  {
   "cell_type": "code",
   "execution_count": 647,
   "id": "f9d674df-8a85-4157-b26c-968c92b1a846",
   "metadata": {},
   "outputs": [],
   "source": [
    "import pandas as pd\n",
    "from sklearn.ensemble import RandomForestClassifier\n",
    "from sklearn.model_selection import train_test_split\n",
    "from sklearn.utils import resample\n",
    "from sklearn.metrics import classification_report\n",
    "import joblib"
   ]
  },
  {
   "cell_type": "code",
   "execution_count": 649,
   "id": "1117489e-ac77-4b52-a1cd-bedd2f6cc7e2",
   "metadata": {},
   "outputs": [],
   "source": [
    "import numpy as np\n",
    "from geopy.distance import geodesic"
   ]
  },
  {
   "cell_type": "code",
   "execution_count": 651,
   "id": "e3f9c774-4fed-449c-85ac-dfc19e352bc2",
   "metadata": {},
   "outputs": [],
   "source": [
    "df=pd.read_csv('Dataset.csv')"
   ]
  },
  {
   "cell_type": "code",
   "execution_count": 653,
   "id": "c02f5292-6116-4edc-907e-ba3a7c1cd284",
   "metadata": {},
   "outputs": [],
   "source": [
    "df['Order_Time']=df['Order_Time'].astype(str).str.strip().replace('NaN', '00:00:00')\n",
    "df['Pickup_Time']=df['Pickup_Time'].astype(str).str.strip().replace('NaN', '00:00:00')"
   ]
  },
  {
   "cell_type": "code",
   "execution_count": 655,
   "id": "9ef283d1-683f-4f9f-acba-1ca366afcb95",
   "metadata": {},
   "outputs": [],
   "source": [
    "#time order was placed and picked\n",
    "df['Order_Hour'] = pd.to_datetime(df['Order_Time'], format='%H:%M:%S', errors='coerce').dt.hour\n",
    "df['Pickup_Hour'] = pd.to_datetime(df['Pickup_Time'], format='%H:%M:%S', errors='coerce').dt.hour\n",
    "\n",
    "df['Order_Date'] = pd.to_datetime(df['Order_Date'], errors='coerce')\n",
    "df['Weekday'] = df['Order_Date'].dt.dayofweek  # 0 = Monday, 6 = Sunday"
   ]
  },
  {
   "cell_type": "code",
   "execution_count": 657,
   "id": "0c0c277d-c890-4bd4-9cb2-3716078d8b61",
   "metadata": {},
   "outputs": [],
   "source": [
    "def calculate_distance(row):\n",
    "    store = (row['Store_Latitude'], row['Store_Longitude'])\n",
    "    drop = (row['Drop_Latitude'], row['Drop_Longitude'])\n",
    "    return geodesic(store, drop).km\n",
    "\n",
    "df['Distance_km'] = df.apply(calculate_distance, axis=1)\n",
    "\n",
    "# === Date/Weekday ===\n",
    "df['Order_Date'] = pd.to_datetime(df['Order_Date'], errors='coerce')\n",
    "df['Weekday'] = df['Order_Date'].dt.dayofweek\n",
    "\n",
    "# === Maps ===\n",
    "traffic_map = {'Low': 0, 'Medium': 1, 'High': 2, 'Jam': 3}\n",
    "weather_map = {'Sunny': 0, 'Cloudy': 1, 'Stormy': 3, 'Sandstorms': 4}\n",
    "\n",
    "df['Traffic_Level'] = df['Traffic'].map(traffic_map).fillna(0)\n",
    "df['Weather_Impact'] = df['Weather'].map(weather_map).fillna(0)\n",
    "\n",
    "# === Delay Flag ===\n",
    "df['Delay_Flag'] = df['Delivery_Time'].apply(lambda x: 1 if x > 120 else 0)\n",
    "\n",
    "# === Final Features ===\n",
    "feature_cols = [\n",
    "    'Distance_km',\n",
    "    'Agent_Rating',\n",
    "    'Traffic_Level',\n",
    "    'Weather_Impact',\n",
    "    'Weekday'\n",
    "]"
   ]
  },
  {
   "cell_type": "code",
   "execution_count": 661,
   "id": "fafa59e7-69d2-48c6-9b73-3c05590abbb8",
   "metadata": {},
   "outputs": [],
   "source": [
    "df = df.dropna(subset=feature_cols + ['Delay_Flag'])"
   ]
  },
  {
   "cell_type": "code",
   "execution_count": 663,
   "id": "c1069dce-eed5-4f44-8c0c-00040717e42d",
   "metadata": {},
   "outputs": [],
   "source": [
    "delayed = df[df['Delay_Flag'] == 1]\n",
    "ontime = df[df['Delay_Flag'] == 0]\n",
    "\n",
    "delayed_upsampled = resample(\n",
    "    delayed,\n",
    "    replace=True,\n",
    "    n_samples=len(ontime),\n",
    "    random_state=42\n",
    ")\n",
    "\n",
    "df_balanced = pd.concat([ontime, delayed_upsampled])\n"
   ]
  },
  {
   "cell_type": "code",
   "execution_count": 665,
   "id": "5eda4294-ada1-4704-b56e-2f9f895ad28e",
   "metadata": {},
   "outputs": [],
   "source": [
    "#from sklearn.preprocessing import LabelEncoder"
   ]
  },
  {
   "cell_type": "code",
   "execution_count": 667,
   "id": "a9761b1b-37ac-49c1-869d-df4c681bdd84",
   "metadata": {},
   "outputs": [],
   "source": [
    "#le = LabelEncoder()\n",
    "#df['Time_of_Day_Encoded'] = le.fit_transform(df['Time_of_Day'])"
   ]
  },
  {
   "cell_type": "code",
   "execution_count": 669,
   "id": "faaa8751-8a34-46aa-920c-ef5fe03cf145",
   "metadata": {},
   "outputs": [],
   "source": [
    "#dict(zip(le.classes_, le.transform(le.classes_)))"
   ]
  },
  {
   "cell_type": "code",
   "execution_count": 671,
   "id": "61dda43c-e075-418e-8cbb-493c76db21c2",
   "metadata": {},
   "outputs": [],
   "source": [
    "df.to_csv('final_dataset.csv', index=False)"
   ]
  },
  {
   "cell_type": "code",
   "execution_count": 672,
   "id": "4005d6df-3d6d-4eb0-aede-2ac04684dc5e",
   "metadata": {},
   "outputs": [],
   "source": [
    "X = df_balanced[feature_cols]\n",
    "y = df_balanced['Delay_Flag']\n",
    "\n",
    "X_train, X_test, y_train, y_test = train_test_split(\n",
    "    X, y, test_size=0.2, random_state=42\n",
    ")"
   ]
  },
  {
   "cell_type": "code",
   "execution_count": 675,
   "id": "8ab5dd67-dc98-41b2-8084-499a0306a370",
   "metadata": {},
   "outputs": [],
   "source": [
    "from sklearn.ensemble import RandomForestClassifier\n",
    "\n",
    "model = RandomForestClassifier(\n",
    "    n_estimators=400,\n",
    "    max_depth=10,\n",
    "    class_weight='balanced',\n",
    "    random_state=23\n",
    ")\n"
   ]
  },
  {
   "cell_type": "code",
   "execution_count": 679,
   "id": "25b1ac7a-0cea-40ea-8428-4747c0fa74b0",
   "metadata": {},
   "outputs": [
    {
     "name": "stdout",
     "output_type": "stream",
     "text": [
      "[0.43838874 0.40931129 0.         0.11406005 0.03823993]\n"
     ]
    }
   ],
   "source": [
    "\n",
    "model.fit(X_train, y_train)\n",
    "\n",
    "y_pred = model.predict(X_test)\n",
    "\n",
    "print(model.feature_importances_) \n"
   ]
  },
  {
   "cell_type": "code",
   "execution_count": 680,
   "id": "938f94ec-0a94-4c2b-9100-94033971c195",
   "metadata": {},
   "outputs": [
    {
     "name": "stdout",
     "output_type": "stream",
     "text": [
      "Distance_km: 0.4384\n",
      "Agent_Rating: 0.4093\n",
      "Traffic_Level: 0.0\n",
      "Weather_Impact: 0.1141\n",
      "Weekday: 0.0382\n"
     ]
    }
   ],
   "source": [
    "importances = model.feature_importances_\n",
    "for feature, importance in zip(feature_cols, importances):\n",
    "    print(f\"{feature}: {round(importance, 4)}\")"
   ]
  },
  {
   "cell_type": "code",
   "execution_count": 683,
   "id": "151040ed-deb9-4a4d-a53f-fc9f2f24dcf2",
   "metadata": {},
   "outputs": [
    {
     "ename": "ValueError",
     "evalue": "could not convert string to float: 'ialx566343618'",
     "output_type": "error",
     "traceback": [
      "\u001b[1;31m---------------------------------------------------------------------------\u001b[0m",
      "\u001b[1;31mValueError\u001b[0m                                Traceback (most recent call last)",
      "Cell \u001b[1;32mIn[683], line 4\u001b[0m\n\u001b[0;32m      1\u001b[0m \u001b[38;5;28;01mimport\u001b[39;00m \u001b[38;5;21;01mseaborn\u001b[39;00m \u001b[38;5;28;01mas\u001b[39;00m \u001b[38;5;21;01msns\u001b[39;00m\n\u001b[0;32m      2\u001b[0m \u001b[38;5;28;01mimport\u001b[39;00m \u001b[38;5;21;01mmatplotlib\u001b[39;00m\u001b[38;5;21;01m.\u001b[39;00m\u001b[38;5;21;01mpyplot\u001b[39;00m \u001b[38;5;28;01mas\u001b[39;00m \u001b[38;5;21;01mplt\u001b[39;00m\n\u001b[1;32m----> 4\u001b[0m sns\u001b[38;5;241m.\u001b[39mheatmap(df\u001b[38;5;241m.\u001b[39mcorr(), annot\u001b[38;5;241m=\u001b[39m\u001b[38;5;28;01mTrue\u001b[39;00m, cmap\u001b[38;5;241m=\u001b[39m\u001b[38;5;124m'\u001b[39m\u001b[38;5;124mcoolwarm\u001b[39m\u001b[38;5;124m'\u001b[39m)\n",
      "File \u001b[1;32m~\\anaconda3\\Lib\\site-packages\\pandas\\core\\frame.py:11049\u001b[0m, in \u001b[0;36mDataFrame.corr\u001b[1;34m(self, method, min_periods, numeric_only)\u001b[0m\n\u001b[0;32m  11047\u001b[0m cols \u001b[38;5;241m=\u001b[39m data\u001b[38;5;241m.\u001b[39mcolumns\n\u001b[0;32m  11048\u001b[0m idx \u001b[38;5;241m=\u001b[39m cols\u001b[38;5;241m.\u001b[39mcopy()\n\u001b[1;32m> 11049\u001b[0m mat \u001b[38;5;241m=\u001b[39m data\u001b[38;5;241m.\u001b[39mto_numpy(dtype\u001b[38;5;241m=\u001b[39m\u001b[38;5;28mfloat\u001b[39m, na_value\u001b[38;5;241m=\u001b[39mnp\u001b[38;5;241m.\u001b[39mnan, copy\u001b[38;5;241m=\u001b[39m\u001b[38;5;28;01mFalse\u001b[39;00m)\n\u001b[0;32m  11051\u001b[0m \u001b[38;5;28;01mif\u001b[39;00m method \u001b[38;5;241m==\u001b[39m \u001b[38;5;124m\"\u001b[39m\u001b[38;5;124mpearson\u001b[39m\u001b[38;5;124m\"\u001b[39m:\n\u001b[0;32m  11052\u001b[0m     correl \u001b[38;5;241m=\u001b[39m libalgos\u001b[38;5;241m.\u001b[39mnancorr(mat, minp\u001b[38;5;241m=\u001b[39mmin_periods)\n",
      "File \u001b[1;32m~\\anaconda3\\Lib\\site-packages\\pandas\\core\\frame.py:1993\u001b[0m, in \u001b[0;36mDataFrame.to_numpy\u001b[1;34m(self, dtype, copy, na_value)\u001b[0m\n\u001b[0;32m   1991\u001b[0m \u001b[38;5;28;01mif\u001b[39;00m dtype \u001b[38;5;129;01mis\u001b[39;00m \u001b[38;5;129;01mnot\u001b[39;00m \u001b[38;5;28;01mNone\u001b[39;00m:\n\u001b[0;32m   1992\u001b[0m     dtype \u001b[38;5;241m=\u001b[39m np\u001b[38;5;241m.\u001b[39mdtype(dtype)\n\u001b[1;32m-> 1993\u001b[0m result \u001b[38;5;241m=\u001b[39m \u001b[38;5;28mself\u001b[39m\u001b[38;5;241m.\u001b[39m_mgr\u001b[38;5;241m.\u001b[39mas_array(dtype\u001b[38;5;241m=\u001b[39mdtype, copy\u001b[38;5;241m=\u001b[39mcopy, na_value\u001b[38;5;241m=\u001b[39mna_value)\n\u001b[0;32m   1994\u001b[0m \u001b[38;5;28;01mif\u001b[39;00m result\u001b[38;5;241m.\u001b[39mdtype \u001b[38;5;129;01mis\u001b[39;00m \u001b[38;5;129;01mnot\u001b[39;00m dtype:\n\u001b[0;32m   1995\u001b[0m     result \u001b[38;5;241m=\u001b[39m np\u001b[38;5;241m.\u001b[39masarray(result, dtype\u001b[38;5;241m=\u001b[39mdtype)\n",
      "File \u001b[1;32m~\\anaconda3\\Lib\\site-packages\\pandas\\core\\internals\\managers.py:1694\u001b[0m, in \u001b[0;36mBlockManager.as_array\u001b[1;34m(self, dtype, copy, na_value)\u001b[0m\n\u001b[0;32m   1692\u001b[0m         arr\u001b[38;5;241m.\u001b[39mflags\u001b[38;5;241m.\u001b[39mwriteable \u001b[38;5;241m=\u001b[39m \u001b[38;5;28;01mFalse\u001b[39;00m\n\u001b[0;32m   1693\u001b[0m \u001b[38;5;28;01melse\u001b[39;00m:\n\u001b[1;32m-> 1694\u001b[0m     arr \u001b[38;5;241m=\u001b[39m \u001b[38;5;28mself\u001b[39m\u001b[38;5;241m.\u001b[39m_interleave(dtype\u001b[38;5;241m=\u001b[39mdtype, na_value\u001b[38;5;241m=\u001b[39mna_value)\n\u001b[0;32m   1695\u001b[0m     \u001b[38;5;66;03m# The underlying data was copied within _interleave, so no need\u001b[39;00m\n\u001b[0;32m   1696\u001b[0m     \u001b[38;5;66;03m# to further copy if copy=True or setting na_value\u001b[39;00m\n\u001b[0;32m   1698\u001b[0m \u001b[38;5;28;01mif\u001b[39;00m na_value \u001b[38;5;129;01mis\u001b[39;00m lib\u001b[38;5;241m.\u001b[39mno_default:\n",
      "File \u001b[1;32m~\\anaconda3\\Lib\\site-packages\\pandas\\core\\internals\\managers.py:1753\u001b[0m, in \u001b[0;36mBlockManager._interleave\u001b[1;34m(self, dtype, na_value)\u001b[0m\n\u001b[0;32m   1751\u001b[0m     \u001b[38;5;28;01melse\u001b[39;00m:\n\u001b[0;32m   1752\u001b[0m         arr \u001b[38;5;241m=\u001b[39m blk\u001b[38;5;241m.\u001b[39mget_values(dtype)\n\u001b[1;32m-> 1753\u001b[0m     result[rl\u001b[38;5;241m.\u001b[39mindexer] \u001b[38;5;241m=\u001b[39m arr\n\u001b[0;32m   1754\u001b[0m     itemmask[rl\u001b[38;5;241m.\u001b[39mindexer] \u001b[38;5;241m=\u001b[39m \u001b[38;5;241m1\u001b[39m\n\u001b[0;32m   1756\u001b[0m \u001b[38;5;28;01mif\u001b[39;00m \u001b[38;5;129;01mnot\u001b[39;00m itemmask\u001b[38;5;241m.\u001b[39mall():\n",
      "\u001b[1;31mValueError\u001b[0m: could not convert string to float: 'ialx566343618'"
     ]
    }
   ],
   "source": [
    "import seaborn as sns\n",
    "import matplotlib.pyplot as plt\n",
    "\n",
    "sns.heatmap(df.corr(), annot=True, cmap='coolwarm')\n"
   ]
  },
  {
   "cell_type": "code",
   "execution_count": 685,
   "id": "c4cfbc3f-707b-468f-9732-6b574e1dcd91",
   "metadata": {},
   "outputs": [
    {
     "name": "stdout",
     "output_type": "stream",
     "text": [
      "Accuracy: 0.6760084427767354\n",
      "Precision: 0.7005479452054795\n",
      "Recall: 0.6049207475751124\n",
      "F1 Score: 0.6492319410943252\n",
      "\n",
      "Confusion Matrix:\n",
      " [[3208 1093]\n",
      " [1670 2557]]\n",
      "\n",
      "Classification Report:\n",
      "               precision    recall  f1-score   support\n",
      "\n",
      "           0       0.66      0.75      0.70      4301\n",
      "           1       0.70      0.60      0.65      4227\n",
      "\n",
      "    accuracy                           0.68      8528\n",
      "   macro avg       0.68      0.68      0.67      8528\n",
      "weighted avg       0.68      0.68      0.67      8528\n",
      "\n"
     ]
    }
   ],
   "source": [
    "from sklearn.metrics import accuracy_score, precision_score, recall_score, f1_score, classification_report, confusion_matrix\n",
    "\n",
    "y_pred = model.predict(X_test)\n",
    "\n",
    "print(\"Accuracy:\", accuracy_score(y_test, y_pred))\n",
    "print(\"Precision:\", precision_score(y_test, y_pred))\n",
    "print(\"Recall:\", recall_score(y_test, y_pred))\n",
    "print(\"F1 Score:\", f1_score(y_test, y_pred))\n",
    "print(\"\\nConfusion Matrix:\\n\", confusion_matrix(y_test, y_pred))\n",
    "print(\"\\nClassification Report:\\n\", classification_report(y_test, y_pred))\n"
   ]
  },
  {
   "cell_type": "code",
   "execution_count": 687,
   "id": "ab100eb7-8b34-464e-8418-29b4c4cdf4df",
   "metadata": {},
   "outputs": [
    {
     "data": {
      "text/plain": [
       "['time_encoder.pkl']"
      ]
     },
     "execution_count": 687,
     "metadata": {},
     "output_type": "execute_result"
    }
   ],
   "source": [
    "import joblib\n",
    "\n",
    "joblib.dump(model, \"delay_model.pkl\")\n",
    "joblib.dump(le, \"time_encoder.pkl\") \n"
   ]
  },
  {
   "cell_type": "code",
   "execution_count": null,
   "id": "c185f772-0706-4402-a0a9-97da94be9110",
   "metadata": {},
   "outputs": [],
   "source": []
  }
 ],
 "metadata": {
  "kernelspec": {
   "display_name": "Python 3 (ipykernel)",
   "language": "python",
   "name": "python3"
  },
  "language_info": {
   "codemirror_mode": {
    "name": "ipython",
    "version": 3
   },
   "file_extension": ".py",
   "mimetype": "text/x-python",
   "name": "python",
   "nbconvert_exporter": "python",
   "pygments_lexer": "ipython3",
   "version": "3.12.4"
  }
 },
 "nbformat": 4,
 "nbformat_minor": 5
}
